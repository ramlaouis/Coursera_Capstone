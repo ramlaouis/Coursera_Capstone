#This is a Notebook file for Capstone Project#
import pandas as pd
import numpy as np
print("Project Capstone for Coursera")
